{
 "cells": [
  {
   "cell_type": "markdown",
   "id": "1c6ff412-09f9-4ec8-acc8-6e498011cc3e",
   "metadata": {},
   "source": [
    "# Data Science Tools and Ecosystem"
   ]
  },
  {
   "cell_type": "markdown",
   "id": "f629442a-b105-48c7-b43f-71d4278716f8",
   "metadata": {},
   "source": [
    "In this notebook, Data Science Tools and Ecosystem are summarized."
   ]
  },
  {
   "cell_type": "markdown",
   "id": "8269d659-c0be-4262-9a4d-7130e0fe6732",
   "metadata": {},
   "source": [
    "__Objectives__:\n",
    "- List of popular languages for Data Scientists\n",
    "- Commonly used libraries\n",
    "- Few examples of artithmetic expressions in Python"
   ]
  },
  {
   "cell_type": "markdown",
   "id": "319516fe-cff2-4a12-820d-09bed9dd28bb",
   "metadata": {},
   "source": [
    "Some of the popular languages that Data Scientists use are:\n",
    "1. Python\n",
    "2. R\n",
    "3. SQL\n",
    "4. Julia"
   ]
  },
  {
   "cell_type": "markdown",
   "id": "294ac3f2-06c4-49a6-8e5d-e0264efb5294",
   "metadata": {},
   "source": [
    "Some of the commonly used libraries used by Data Scientists include:\n",
    "1. NumPy\n",
    "2. Pandas\n",
    "3. Seaborn\n",
    "4. SciPy"
   ]
  },
  {
   "cell_type": "markdown",
   "id": "ae01dc44-65ec-407c-91bd-160d57c3e5b6",
   "metadata": {},
   "source": [
    "|Data Science Tools|\n",
    "|---|\n",
    "|RStudio|\n",
    "|Apache Hadoop|\n",
    "|Apache Spark|"
   ]
  },
  {
   "cell_type": "markdown",
   "id": "a5f341f3-9b35-4c69-af1e-efaeec31cfcb",
   "metadata": {},
   "source": [
    "### Below are a few examples of evaluating arithmetic expressions in Python."
   ]
  },
  {
   "cell_type": "code",
   "execution_count": 4,
   "id": "e75b00a7-4863-4323-b27e-caf678352d6d",
   "metadata": {},
   "outputs": [
    {
     "data": {
      "text/plain": [
       "17"
      ]
     },
     "execution_count": 4,
     "metadata": {},
     "output_type": "execute_result"
    }
   ],
   "source": [
    "# This a simple arithmetic expression to mutiply then add integers\n",
    "(3*4)+5"
   ]
  },
  {
   "cell_type": "code",
   "execution_count": 5,
   "id": "de38c522-76b7-4049-a18f-af3998ec49a0",
   "metadata": {},
   "outputs": [
    {
     "data": {
      "text/plain": [
       "3.3333333333333335"
      ]
     },
     "execution_count": 5,
     "metadata": {},
     "output_type": "execute_result"
    }
   ],
   "source": [
    "# This will convert 200 minutes to hours by diving by 60\n",
    "200/60"
   ]
  },
  {
   "cell_type": "markdown",
   "id": "593e5e6d-1fee-4227-8aca-6e54afb3b280",
   "metadata": {},
   "source": [
    "## Author : \n",
    "Maryam H."
   ]
  },
  {
   "cell_type": "code",
   "execution_count": null,
   "id": "26caa8ff-fe6d-41d7-89ef-bd0fcdb67af1",
   "metadata": {},
   "outputs": [],
   "source": []
  }
 ],
 "metadata": {
  "kernelspec": {
   "display_name": "Python 3 (ipykernel)",
   "language": "python",
   "name": "python3"
  },
  "language_info": {
   "codemirror_mode": {
    "name": "ipython",
    "version": 3
   },
   "file_extension": ".py",
   "mimetype": "text/x-python",
   "name": "python",
   "nbconvert_exporter": "python",
   "pygments_lexer": "ipython3",
   "version": "3.12.5"
  }
 },
 "nbformat": 4,
 "nbformat_minor": 5
}
